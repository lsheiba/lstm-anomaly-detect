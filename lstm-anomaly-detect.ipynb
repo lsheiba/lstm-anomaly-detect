{
 "cells": [
  {
   "cell_type": "code",
   "execution_count": 14,
   "metadata": {},
   "outputs": [],
   "source": [
    "\"\"\" Inspired by example from\n",
    "https://github.com/Vict0rSch/deep_learning/tree/master/keras/recurrent\n",
    "Uses the TensorFlow backend\n",
    "The basic idea is to detect anomalies in a time-series.\n",
    "\"\"\"\n",
    "import matplotlib.pyplot as plt\n",
    "import numpy as np\n",
    "import time\n",
    "from keras.layers.core import Dense, Activation, Dropout\n",
    "from keras.layers.recurrent import LSTM\n",
    "from keras.models import Sequential\n",
    "from numpy import arange, sin, pi, random"
   ]
  },
  {
   "cell_type": "code",
   "execution_count": null,
   "metadata": {
    "collapsed": true
   },
   "outputs": [],
   "source": [
    "def dropin(X, y):\n",
    "    \"\"\" The name suggests the inverse of dropout, i.e. adding more samples. See Data Augmentation section at\n",
    "    http://simaaron.github.io/Estimating-rainfall-from-weather-radar-readings-using-recurrent-neural-networks/\n",
    "    :param X: Each row is a training sequence\n",
    "    :param y: Tne target we train and will later predict\n",
    "    :return: new augmented X, y\n",
    "    \"\"\"\n",
    "    print(\"X shape:\", X.shape)\n",
    "    print(\"y shape:\", y.shape)\n",
    "    X_hat = []\n",
    "    y_hat = []\n",
    "    for i in range(0, len(X)):\n",
    "        for j in range(0, np.random.random_integers(0, random_data_dup)):\n",
    "            X_hat.append(X[i, :])\n",
    "            y_hat.append(y[i])\n",
    "    return np.asarray(X_hat), np.asarray(y_hat)"
   ]
  },
  {
   "cell_type": "code",
   "execution_count": null,
   "metadata": {
    "collapsed": true
   },
   "outputs": [],
   "source": [
    "def z_norm(result):\n",
    "    result_mean = result.mean()\n",
    "    result_std = result.std()\n",
    "    result -= result_mean\n",
    "    result /= result_std\n",
    "    return result, result_mean"
   ]
  },
  {
   "cell_type": "code",
   "execution_count": 15,
   "metadata": {
    "collapsed": true
   },
   "outputs": [],
   "source": [
    "np.random.seed(1234)\n",
    "\n",
    "# Global hyper-parameters\n",
    "sequence_length = 100\n",
    "random_data_dup = 10  # each sample randomly duplicated between 0 and 9 times, see dropin function\n",
    "epochs = 1\n",
    "batch_size = 50"
   ]
  },
  {
   "cell_type": "code",
   "execution_count": 16,
   "metadata": {
    "collapsed": true
   },
   "outputs": [],
   "source": [
    "#def run_network(model=None, data=None):\n",
    "model = None\n",
    "data = None\n",
    "\n",
    "global_start_time = time.time()"
   ]
  },
  {
   "cell_type": "code",
   "execution_count": 17,
   "metadata": {},
   "outputs": [
    {
     "name": "stdout",
     "output_type": "stream",
     "text": [
      "('wave1', 1000)\n"
     ]
    }
   ],
   "source": [
    "#def get_split_prep_data(train_start, train_end, test_start, test_end):\n",
    "\"\"\" Generate a synthetic wave by adding up a few sine waves and some noise\n",
    ":return: the final wave\n",
    "\"\"\"\n",
    "t = np.arange(0.0, 10.0, 0.01)\n",
    "wave1 = sin(2 * 2 * pi * t)\n",
    "noise = random.normal(0, 0.1, len(t))\n",
    "wave1 = wave1 + noise\n",
    "print(\"wave1\", len(wave1))"
   ]
  },
  {
   "cell_type": "code",
   "execution_count": 18,
   "metadata": {},
   "outputs": [
    {
     "name": "stdout",
     "output_type": "stream",
     "text": [
      "('wave2', 1000)\n"
     ]
    }
   ],
   "source": [
    "wave2 = sin(2 * pi * t)\n",
    "print(\"wave2\", len(wave2))"
   ]
  },
  {
   "cell_type": "code",
   "execution_count": 19,
   "metadata": {},
   "outputs": [
    {
     "name": "stdout",
     "output_type": "stream",
     "text": [
      "('wave3', 50)\n"
     ]
    }
   ],
   "source": [
    "t_rider = arange(0.0, 0.5, 0.01)\n",
    "wave3 = sin(10 * pi * t_rider)\n",
    "print(\"wave3\", len(wave3))"
   ]
  },
  {
   "cell_type": "code",
   "execution_count": 25,
   "metadata": {},
   "outputs": [
    {
     "name": "stdout",
     "output_type": "stream",
     "text": [
      "('Length of Data', 1000)\n"
     ]
    }
   ],
   "source": [
    "insert = round(0.8 * len(t))\n",
    "wave1[int(insert):int(insert) + 50] = wave1[int(insert):int(insert) + 50] + wave3\n",
    "data = wave1 + wave2\n",
    "print(\"Length of Data\", len(data))"
   ]
  },
  {
   "cell_type": "code",
   "execution_count": 26,
   "metadata": {},
   "outputs": [
    {
     "name": "stdout",
     "output_type": "stream",
     "text": [
      "Creating train data...\n",
      "Mean of train data :  0.00171749842652\n",
      "Train data shape  :  (600, 100)\n",
      "('X shape:', (600, 99))\n",
      "('y shape:', (600,))\n"
     ]
    },
    {
     "name": "stderr",
     "output_type": "stream",
     "text": [
      "/usr/local/lib/python2.7/dist-packages/ipykernel_launcher.py:13: DeprecationWarning: This function is deprecated. Please call randint(0, 10 + 1) instead\n",
      "  del sys.path[0]\n"
     ]
    }
   ],
   "source": [
    "# train data\n",
    "print \"Creating train data...\"\n",
    "\n",
    "train_start=0\n",
    "train_end=700\n",
    "test_start=500\n",
    "test_end=1000\n",
    "\n",
    "result = []\n",
    "for index in range(train_start, train_end - sequence_length):\n",
    "    result.append(data[index: index + sequence_length])\n",
    "result = np.array(result)  # shape (samples, sequence_length)\n",
    "result, result_mean = z_norm(result)\n",
    "\n",
    "print \"Mean of train data : \", result_mean\n",
    "print \"Train data shape  : \", result.shape\n",
    "\n",
    "train = result[train_start:train_end, :]\n",
    "np.random.shuffle(train)  # shuffles in-place\n",
    "X_train = train[:, :-1]\n",
    "y_train = train[:, -1]\n",
    "X_train, y_train = dropin(X_train, y_train)"
   ]
  },
  {
   "cell_type": "code",
   "execution_count": 27,
   "metadata": {},
   "outputs": [
    {
     "name": "stdout",
     "output_type": "stream",
     "text": [
      "Creating test data...\n",
      "Mean of test data :  0.0480435088203\n",
      "Test data shape  :  (400, 100)\n",
      "('Shape X_train', (2958, 99))\n",
      "('Shape X_test', (400, 99))\n"
     ]
    }
   ],
   "source": [
    "# test data\n",
    "print \"Creating test data...\"\n",
    "\n",
    "result = []\n",
    "for index in range(test_start, test_end - sequence_length):\n",
    "    result.append(data[index: index + sequence_length])\n",
    "result = np.array(result)  # shape (samples, sequence_length)\n",
    "result, result_mean = z_norm(result)\n",
    "\n",
    "print \"Mean of test data : \", result_mean\n",
    "print \"Test data shape  : \", result.shape\n",
    "\n",
    "X_test = result[:, :-1]\n",
    "y_test = result[:, -1]\n",
    "\n",
    "print(\"Shape X_train\", np.shape(X_train))\n",
    "print(\"Shape X_test\", np.shape(X_test))\n",
    "\n",
    "X_train = np.reshape(X_train, (X_train.shape[0], X_train.shape[1], 1))\n",
    "X_test = np.reshape(X_test, (X_test.shape[0], X_test.shape[1], 1))"
   ]
  },
  {
   "cell_type": "code",
   "execution_count": 29,
   "metadata": {},
   "outputs": [
    {
     "name": "stderr",
     "output_type": "stream",
     "text": [
      "/usr/local/lib/python2.7/dist-packages/ipykernel_launcher.py:5: UserWarning: The `input_dim` and `input_length` arguments in recurrent layers are deprecated. Use `input_shape` instead.\n",
      "  \"\"\"\n",
      "/usr/local/lib/python2.7/dist-packages/ipykernel_launcher.py:5: UserWarning: Update your `LSTM` call to the Keras 2 API: `LSTM(units=64, return_sequences=True, input_shape=(99, 1))`\n",
      "  \"\"\"\n",
      "/usr/local/lib/python2.7/dist-packages/ipykernel_launcher.py:14: UserWarning: Update your `Dense` call to the Keras 2 API: `Dense(units=1)`\n",
      "  \n"
     ]
    }
   ],
   "source": [
    "#def build_model():\n",
    "model = Sequential()\n",
    "layers = {'input': 1, 'hidden1': 64, 'hidden2': 256, 'hidden3': 100, 'output': 1}\n",
    "\n",
    "model.add(LSTM(input_length=sequence_length - 1,input_dim=layers['input'],output_dim=layers['hidden1'],return_sequences=True))\n",
    "model.add(Dropout(0.2))\n",
    "\n",
    "model.add(LSTM(layers['hidden2'],return_sequences=True))\n",
    "model.add(Dropout(0.2))\n",
    "\n",
    "model.add(LSTM(layers['hidden3'],return_sequences=False))\n",
    "model.add(Dropout(0.2))\n",
    "\n",
    "model.add(Dense(output_dim=layers['output']))\n",
    "model.add(Activation(\"linear\"))"
   ]
  },
  {
   "cell_type": "code",
   "execution_count": 30,
   "metadata": {},
   "outputs": [
    {
     "name": "stdout",
     "output_type": "stream",
     "text": [
      "Compilation Time :  0.115177154541\n"
     ]
    }
   ],
   "source": [
    "start = time.time()\n",
    "model.compile(loss=\"mse\", optimizer=\"rmsprop\")\n",
    "print \"Compilation Time : \", time.time() - start"
   ]
  },
  {
   "cell_type": "code",
   "execution_count": 32,
   "metadata": {},
   "outputs": [
    {
     "name": "stdout",
     "output_type": "stream",
     "text": [
      "Training...\n"
     ]
    },
    {
     "name": "stderr",
     "output_type": "stream",
     "text": [
      "/notebooks/workspace/lib/keras/models.py:844: UserWarning: The `nb_epoch` argument in `fit` has been renamed `epochs`.\n",
      "  warnings.warn('The `nb_epoch` argument in `fit` '\n"
     ]
    },
    {
     "name": "stdout",
     "output_type": "stream",
     "text": [
      "Train on 2810 samples, validate on 148 samples\n",
      "Epoch 1/1\n",
      "2810/2810 [==============================] - 170s - loss: 0.1706 - val_loss: 0.1106\n",
      "Predicting...\n",
      "Reshaping predicted\n"
     ]
    }
   ],
   "source": [
    "try:\n",
    "    print(\"Training...\")\n",
    "    model.fit(X_train, y_train, batch_size=batch_size, nb_epoch=epochs, validation_split=0.05)\n",
    "    print(\"Predicting...\")\n",
    "    predicted = model.predict(X_test)\n",
    "    print(\"Reshaping predicted\")\n",
    "    predicted = np.reshape(predicted, (predicted.size,))\n",
    "except KeyboardInterrupt:\n",
    "    print(\"prediction exception\")\n",
    "    print 'Training duration (s) : ', time.time() - global_start_time\n"
   ]
  },
  {
   "cell_type": "code",
   "execution_count": 33,
   "metadata": {},
   "outputs": [
    {
     "data": {
      "image/png": "[encoded data removed]",
      "text/plain": [
       "<matplotlib.figure.Figure at 0x7f1069036d50>"
      ]
     },
     "metadata": {},
     "output_type": "display_data"
    },
    {
     "name": "stdout",
     "output_type": "stream",
     "text": [
      "Training duration (s) :  816.371822834\n"
     ]
    }
   ],
   "source": [
    "plt.figure(1)\n",
    "plt.subplot(311)\n",
    "plt.title(\"Actual Test Signal w/Anomalies\")\n",
    "plt.plot(y_test[:len(y_test)], 'b')\n",
    "plt.subplot(312)\n",
    "plt.title(\"Predicted Signal\")\n",
    "plt.plot(predicted[:len(y_test)], 'g')\n",
    "plt.subplot(313)\n",
    "plt.title(\"Squared Error\")\n",
    "mse = ((y_test - predicted) ** 2)\n",
    "plt.plot(mse, 'r')\n",
    "plt.show()\n",
    "print 'Training duration (s) : ', time.time() - global_start_time\n",
    "\n",
    "#    return model, y_test, predicted"
   ]
  },
  {
   "cell_type": "code",
   "execution_count": 34,
   "metadata": {
    "collapsed": true
   },
   "outputs": [],
   "source": [
    "exit()"
   ]
  },
  {
   "cell_type": "code",
   "execution_count": null,
   "metadata": {
    "collapsed": true
   },
   "outputs": [],
   "source": []
  }
 ],
 "metadata": {
  "kernelspec": {
   "display_name": "Python 2",
   "language": "python",
   "name": "python2"
  },
  "language_info": {
   "codemirror_mode": {
    "name": "ipython",
    "version": 2
   },
   "file_extension": ".py",
   "mimetype": "text/x-python",
   "name": "python",
   "nbconvert_exporter": "python",
   "pygments_lexer": "ipython2",
   "version": "2.7.12"
  }
 },
 "nbformat": 4,
 "nbformat_minor": 2
}
